{
 "cells": [
  {
   "cell_type": "code",
   "execution_count": 17,
   "metadata": {
    "collapsed": false
   },
   "outputs": [],
   "source": [
    "import pandas as pd\n",
    "import numpy as np\n",
    "from sklearn.preprocessing import OneHotEncoder\n",
    "import sklearn\n",
    "from sklearn.preprocessing import StandardScaler"
   ]
  },
  {
   "cell_type": "code",
   "execution_count": 2,
   "metadata": {
    "collapsed": false
   },
   "outputs": [],
   "source": [
    "dataset = pd.read_excel(\"../data/acp_data.xls\")"
   ]
  },
  {
   "cell_type": "code",
   "execution_count": 3,
   "metadata": {
    "collapsed": false
   },
   "outputs": [
    {
     "data": {
      "text/html": [
       "<div>\n",
       "<style scoped>\n",
       "    .dataframe tbody tr th:only-of-type {\n",
       "        vertical-align: middle;\n",
       "    }\n",
       "\n",
       "    .dataframe tbody tr th {\n",
       "        vertical-align: top;\n",
       "    }\n",
       "\n",
       "    .dataframe thead th {\n",
       "        text-align: right;\n",
       "    }\n",
       "</style>\n",
       "<table border=\"1\" class=\"dataframe\">\n",
       "  <thead>\n",
       "    <tr style=\"text-align: right;\">\n",
       "      <th></th>\n",
       "      <th>Modele</th>\n",
       "      <th>CYL</th>\n",
       "      <th>PUISS</th>\n",
       "      <th>LONG</th>\n",
       "      <th>LARG</th>\n",
       "      <th>POIDS</th>\n",
       "      <th>V-MAX</th>\n",
       "      <th>FINITION</th>\n",
       "      <th>PRIX</th>\n",
       "      <th>R-POID.PUIS</th>\n",
       "    </tr>\n",
       "  </thead>\n",
       "  <tbody>\n",
       "    <tr>\n",
       "      <th>0</th>\n",
       "      <td>Alfasud TI</td>\n",
       "      <td>1350</td>\n",
       "      <td>79</td>\n",
       "      <td>393</td>\n",
       "      <td>161</td>\n",
       "      <td>870</td>\n",
       "      <td>165</td>\n",
       "      <td>B</td>\n",
       "      <td>30570</td>\n",
       "      <td>11.012658</td>\n",
       "    </tr>\n",
       "    <tr>\n",
       "      <th>1</th>\n",
       "      <td>Audi 100</td>\n",
       "      <td>1588</td>\n",
       "      <td>85</td>\n",
       "      <td>468</td>\n",
       "      <td>177</td>\n",
       "      <td>1110</td>\n",
       "      <td>160</td>\n",
       "      <td>TB</td>\n",
       "      <td>39990</td>\n",
       "      <td>13.058824</td>\n",
       "    </tr>\n",
       "    <tr>\n",
       "      <th>2</th>\n",
       "      <td>Simca 1300</td>\n",
       "      <td>1294</td>\n",
       "      <td>68</td>\n",
       "      <td>424</td>\n",
       "      <td>168</td>\n",
       "      <td>1050</td>\n",
       "      <td>152</td>\n",
       "      <td>M</td>\n",
       "      <td>29600</td>\n",
       "      <td>15.441176</td>\n",
       "    </tr>\n",
       "    <tr>\n",
       "      <th>3</th>\n",
       "      <td>Citroen GS Club</td>\n",
       "      <td>1222</td>\n",
       "      <td>59</td>\n",
       "      <td>412</td>\n",
       "      <td>161</td>\n",
       "      <td>930</td>\n",
       "      <td>151</td>\n",
       "      <td>M</td>\n",
       "      <td>28250</td>\n",
       "      <td>15.762712</td>\n",
       "    </tr>\n",
       "    <tr>\n",
       "      <th>4</th>\n",
       "      <td>Fiat 132</td>\n",
       "      <td>1585</td>\n",
       "      <td>98</td>\n",
       "      <td>439</td>\n",
       "      <td>164</td>\n",
       "      <td>1105</td>\n",
       "      <td>165</td>\n",
       "      <td>B</td>\n",
       "      <td>34900</td>\n",
       "      <td>11.275510</td>\n",
       "    </tr>\n",
       "  </tbody>\n",
       "</table>\n",
       "</div>"
      ],
      "text/plain": [
       "            Modele   CYL  PUISS  LONG  LARG  POIDS  V-MAX FINITION   PRIX  \\\n",
       "0       Alfasud TI  1350     79   393   161    870    165        B  30570   \n",
       "1         Audi 100  1588     85   468   177   1110    160       TB  39990   \n",
       "2       Simca 1300  1294     68   424   168   1050    152        M  29600   \n",
       "3  Citroen GS Club  1222     59   412   161    930    151        M  28250   \n",
       "4         Fiat 132  1585     98   439   164   1105    165        B  34900   \n",
       "\n",
       "   R-POID.PUIS  \n",
       "0    11.012658  \n",
       "1    13.058824  \n",
       "2    15.441176  \n",
       "3    15.762712  \n",
       "4    11.275510  "
      ]
     },
     "execution_count": 3,
     "metadata": {},
     "output_type": "execute_result"
    }
   ],
   "source": [
    "dataset.head(5)"
   ]
  },
  {
   "cell_type": "code",
   "execution_count": 4,
   "metadata": {
    "collapsed": false
   },
   "outputs": [
    {
     "name": "stdout",
     "output_type": "stream",
     "text": [
      "<class 'pandas.core.frame.DataFrame'>\n",
      "RangeIndex: 18 entries, 0 to 17\n",
      "Data columns (total 10 columns):\n",
      "Modele         18 non-null object\n",
      "CYL            18 non-null int64\n",
      "PUISS          18 non-null int64\n",
      "LONG           18 non-null int64\n",
      "LARG           18 non-null int64\n",
      "POIDS          18 non-null int64\n",
      "V-MAX          18 non-null int64\n",
      "FINITION       18 non-null object\n",
      "PRIX           18 non-null int64\n",
      "R-POID.PUIS    18 non-null float64\n",
      "dtypes: float64(1), int64(7), object(2)\n",
      "memory usage: 1.5+ KB\n"
     ]
    }
   ],
   "source": [
    "dataset.info()"
   ]
  },
  {
   "cell_type": "code",
   "execution_count": 5,
   "metadata": {
    "collapsed": false
   },
   "outputs": [
    {
     "data": {
      "text/plain": [
       "Modele          object\n",
       "CYL              int64\n",
       "PUISS            int64\n",
       "LONG             int64\n",
       "LARG             int64\n",
       "POIDS            int64\n",
       "V-MAX            int64\n",
       "FINITION        object\n",
       "PRIX             int64\n",
       "R-POID.PUIS    float64\n",
       "dtype: object"
      ]
     },
     "execution_count": 5,
     "metadata": {},
     "output_type": "execute_result"
    }
   ],
   "source": [
    "dataset.dtypes"
   ]
  },
  {
   "cell_type": "code",
   "execution_count": 6,
   "metadata": {
    "collapsed": false
   },
   "outputs": [
    {
     "data": {
      "text/plain": [
       "(18, 10)"
      ]
     },
     "execution_count": 6,
     "metadata": {},
     "output_type": "execute_result"
    }
   ],
   "source": [
    "dataset.shape"
   ]
  },
  {
   "cell_type": "code",
   "execution_count": 7,
   "metadata": {
    "collapsed": false
   },
   "outputs": [
    {
     "data": {
      "text/plain": [
       "18"
      ]
     },
     "execution_count": 7,
     "metadata": {},
     "output_type": "execute_result"
    }
   ],
   "source": [
    "#nombre d'observations\n",
    "dataset.shape[0]"
   ]
  },
  {
   "cell_type": "code",
   "execution_count": 8,
   "metadata": {
    "collapsed": false
   },
   "outputs": [
    {
     "data": {
      "text/plain": [
       "10"
      ]
     },
     "execution_count": 8,
     "metadata": {},
     "output_type": "execute_result"
    }
   ],
   "source": [
    "#nombre de variables\n",
    "dataset.shape[1]"
   ]
  },
  {
   "cell_type": "code",
   "execution_count": 9,
   "metadata": {
    "collapsed": false
   },
   "outputs": [],
   "source": [
    "#instanciation\n",
    "sc = StandardScaler()"
   ]
  },
  {
   "cell_type": "code",
   "execution_count": 10,
   "metadata": {
    "collapsed": false
   },
   "outputs": [
    {
     "data": {
      "text/html": [
       "<div>\n",
       "<style scoped>\n",
       "    .dataframe tbody tr th:only-of-type {\n",
       "        vertical-align: middle;\n",
       "    }\n",
       "\n",
       "    .dataframe tbody tr th {\n",
       "        vertical-align: top;\n",
       "    }\n",
       "\n",
       "    .dataframe thead th {\n",
       "        text-align: right;\n",
       "    }\n",
       "</style>\n",
       "<table border=\"1\" class=\"dataframe\">\n",
       "  <thead>\n",
       "    <tr style=\"text-align: right;\">\n",
       "      <th></th>\n",
       "      <th>FINITION</th>\n",
       "      <th>Modele</th>\n",
       "    </tr>\n",
       "  </thead>\n",
       "  <tbody>\n",
       "    <tr>\n",
       "      <th>0</th>\n",
       "      <td>B</td>\n",
       "      <td>Alfasud TI</td>\n",
       "    </tr>\n",
       "    <tr>\n",
       "      <th>1</th>\n",
       "      <td>TB</td>\n",
       "      <td>Audi 100</td>\n",
       "    </tr>\n",
       "    <tr>\n",
       "      <th>2</th>\n",
       "      <td>M</td>\n",
       "      <td>Simca 1300</td>\n",
       "    </tr>\n",
       "    <tr>\n",
       "      <th>3</th>\n",
       "      <td>M</td>\n",
       "      <td>Citroen GS Club</td>\n",
       "    </tr>\n",
       "    <tr>\n",
       "      <th>4</th>\n",
       "      <td>B</td>\n",
       "      <td>Fiat 132</td>\n",
       "    </tr>\n",
       "    <tr>\n",
       "      <th>5</th>\n",
       "      <td>TB</td>\n",
       "      <td>Lancia Beta</td>\n",
       "    </tr>\n",
       "    <tr>\n",
       "      <th>6</th>\n",
       "      <td>B</td>\n",
       "      <td>Peugeot 504</td>\n",
       "    </tr>\n",
       "    <tr>\n",
       "      <th>7</th>\n",
       "      <td>B</td>\n",
       "      <td>Renault 16 TL</td>\n",
       "    </tr>\n",
       "    <tr>\n",
       "      <th>8</th>\n",
       "      <td>TB</td>\n",
       "      <td>Renault 30</td>\n",
       "    </tr>\n",
       "    <tr>\n",
       "      <th>9</th>\n",
       "      <td>M</td>\n",
       "      <td>Toyota Corolla</td>\n",
       "    </tr>\n",
       "    <tr>\n",
       "      <th>10</th>\n",
       "      <td>TB</td>\n",
       "      <td>Alfetta-1.66</td>\n",
       "    </tr>\n",
       "    <tr>\n",
       "      <th>11</th>\n",
       "      <td>B</td>\n",
       "      <td>Princess-1800</td>\n",
       "    </tr>\n",
       "    <tr>\n",
       "      <th>12</th>\n",
       "      <td>TB</td>\n",
       "      <td>Datsun-200L</td>\n",
       "    </tr>\n",
       "    <tr>\n",
       "      <th>13</th>\n",
       "      <td>B</td>\n",
       "      <td>Taunus-2000</td>\n",
       "    </tr>\n",
       "    <tr>\n",
       "      <th>14</th>\n",
       "      <td>TB</td>\n",
       "      <td>Rancho</td>\n",
       "    </tr>\n",
       "    <tr>\n",
       "      <th>15</th>\n",
       "      <td>M</td>\n",
       "      <td>Mazda-9295</td>\n",
       "    </tr>\n",
       "    <tr>\n",
       "      <th>16</th>\n",
       "      <td>B</td>\n",
       "      <td>Opel-Rekord</td>\n",
       "    </tr>\n",
       "    <tr>\n",
       "      <th>17</th>\n",
       "      <td>M</td>\n",
       "      <td>Lada-1300</td>\n",
       "    </tr>\n",
       "  </tbody>\n",
       "</table>\n",
       "</div>"
      ],
      "text/plain": [
       "   FINITION           Modele\n",
       "0         B       Alfasud TI\n",
       "1        TB         Audi 100\n",
       "2         M       Simca 1300\n",
       "3         M  Citroen GS Club\n",
       "4         B         Fiat 132\n",
       "5        TB      Lancia Beta\n",
       "6         B      Peugeot 504\n",
       "7         B    Renault 16 TL\n",
       "8        TB       Renault 30\n",
       "9         M   Toyota Corolla\n",
       "10       TB     Alfetta-1.66\n",
       "11        B    Princess-1800\n",
       "12       TB      Datsun-200L\n",
       "13        B      Taunus-2000\n",
       "14       TB           Rancho\n",
       "15        M       Mazda-9295\n",
       "16        B      Opel-Rekord\n",
       "17        M        Lada-1300"
      ]
     },
     "execution_count": 10,
     "metadata": {},
     "output_type": "execute_result"
    }
   ],
   "source": [
    "categorical_features = dataset[['FINITION', 'Modele']]\n",
    "categorical_features "
   ]
  },
  {
   "cell_type": "code",
   "execution_count": 11,
   "metadata": {
    "collapsed": false
   },
   "outputs": [],
   "source": [
    "dataset = pd.concat([dataset, pd.get_dummies(dataset['FINITION'])], axis=1);"
   ]
  },
  {
   "cell_type": "code",
   "execution_count": 12,
   "metadata": {
    "collapsed": true
   },
   "outputs": [],
   "source": [
    "dataset = pd.concat([dataset, pd.get_dummies(dataset['Modele'])], axis=1);"
   ]
  },
  {
   "cell_type": "code",
   "execution_count": 13,
   "metadata": {
    "collapsed": false
   },
   "outputs": [
    {
     "data": {
      "text/plain": [
       "Modele              object\n",
       "CYL                  int64\n",
       "PUISS                int64\n",
       "LONG                 int64\n",
       "LARG                 int64\n",
       "POIDS                int64\n",
       "V-MAX                int64\n",
       "FINITION            object\n",
       "PRIX                 int64\n",
       "R-POID.PUIS        float64\n",
       "B                    uint8\n",
       "M                    uint8\n",
       "TB                   uint8\n",
       "Alfasud TI           uint8\n",
       "Alfetta-1.66         uint8\n",
       "Audi 100             uint8\n",
       "Citroen GS Club      uint8\n",
       "Datsun-200L          uint8\n",
       "Fiat 132             uint8\n",
       "Lada-1300            uint8\n",
       "Lancia Beta          uint8\n",
       "Mazda-9295           uint8\n",
       "Opel-Rekord          uint8\n",
       "Peugeot 504          uint8\n",
       "Princess-1800        uint8\n",
       "Rancho               uint8\n",
       "Renault 16 TL        uint8\n",
       "Renault 30           uint8\n",
       "Simca 1300           uint8\n",
       "Taunus-2000          uint8\n",
       "Toyota Corolla       uint8\n",
       "dtype: object"
      ]
     },
     "execution_count": 13,
     "metadata": {},
     "output_type": "execute_result"
    }
   ],
   "source": [
    "dataset.dtypes"
   ]
  },
  {
   "cell_type": "code",
   "execution_count": 14,
   "metadata": {
    "collapsed": false,
    "scrolled": false
   },
   "outputs": [],
   "source": [
    "dataset= dataset.drop(['FINITION', 'PRIX', 'R-POID.PUIS', 'Modele'], axis=1)"
   ]
  },
  {
   "cell_type": "code",
   "execution_count": 15,
   "metadata": {
    "collapsed": false
   },
   "outputs": [
    {
     "name": "stdout",
     "output_type": "stream",
     "text": [
      "<class 'pandas.core.frame.DataFrame'>\n",
      "RangeIndex: 18 entries, 0 to 17\n",
      "Data columns (total 27 columns):\n",
      "CYL                18 non-null int64\n",
      "PUISS              18 non-null int64\n",
      "LONG               18 non-null int64\n",
      "LARG               18 non-null int64\n",
      "POIDS              18 non-null int64\n",
      "V-MAX              18 non-null int64\n",
      "B                  18 non-null uint8\n",
      "M                  18 non-null uint8\n",
      "TB                 18 non-null uint8\n",
      "Alfasud TI         18 non-null uint8\n",
      "Alfetta-1.66       18 non-null uint8\n",
      "Audi 100           18 non-null uint8\n",
      "Citroen GS Club    18 non-null uint8\n",
      "Datsun-200L        18 non-null uint8\n",
      "Fiat 132           18 non-null uint8\n",
      "Lada-1300          18 non-null uint8\n",
      "Lancia Beta        18 non-null uint8\n",
      "Mazda-9295         18 non-null uint8\n",
      "Opel-Rekord        18 non-null uint8\n",
      "Peugeot 504        18 non-null uint8\n",
      "Princess-1800      18 non-null uint8\n",
      "Rancho             18 non-null uint8\n",
      "Renault 16 TL      18 non-null uint8\n",
      "Renault 30         18 non-null uint8\n",
      "Simca 1300         18 non-null uint8\n",
      "Taunus-2000        18 non-null uint8\n",
      "Toyota Corolla     18 non-null uint8\n",
      "dtypes: int64(6), uint8(21)\n",
      "memory usage: 1.3 KB\n"
     ]
    }
   ],
   "source": [
    "dataset.info()"
   ]
  },
  {
   "cell_type": "code",
   "execution_count": 16,
   "metadata": {
    "collapsed": false,
    "scrolled": true
   },
   "outputs": [
    {
     "name": "stdout",
     "output_type": "stream",
     "text": [
      "[[-0.77509889 -0.28335818 -1.88508077 -1.09734528 -1.56900676  0.56976043\n",
      "   1.25356634 -0.62017367 -0.70710678  4.12310563 -0.24253563 -0.24253563\n",
      "  -0.24253563 -0.24253563 -0.24253563 -0.24253563 -0.24253563 -0.24253563\n",
      "  -0.24253563 -0.24253563 -0.24253563 -0.24253563 -0.24253563 -0.24253563\n",
      "  -0.24253563 -0.24253563 -0.24253563]\n",
      " [-0.12016326  0.01963869  1.60580955  2.0010414   0.23416142  0.14597168\n",
      "  -0.79772404 -0.62017367  1.41421356 -0.24253563 -0.24253563  4.12310563\n",
      "  -0.24253563 -0.24253563 -0.24253563 -0.24253563 -0.24253563 -0.24253563\n",
      "  -0.24253563 -0.24253563 -0.24253563 -0.24253563 -0.24253563 -0.24253563\n",
      "  -0.24253563 -0.24253563 -0.24253563]\n",
      " [-0.92920139 -0.83885242 -0.44217944  0.25819889 -0.21663062 -0.53209032\n",
      "  -0.79772404  1.61245155 -0.70710678 -0.24253563 -0.24253563 -0.24253563\n",
      "  -0.24253563 -0.24253563 -0.24253563 -0.24253563 -0.24253563 -0.24253563\n",
      "  -0.24253563 -0.24253563 -0.24253563 -0.24253563 -0.24253563 -0.24253563\n",
      "   4.12310563 -0.24253563 -0.24253563]\n",
      " [-1.12733318 -1.29334771 -1.00072189 -1.09734528 -1.11821472 -0.61684807\n",
      "  -0.79772404  1.61245155 -0.70710678 -0.24253563 -0.24253563 -0.24253563\n",
      "   4.12310563 -0.24253563 -0.24253563 -0.24253563 -0.24253563 -0.24253563\n",
      "  -0.24253563 -0.24253563 -0.24253563 -0.24253563 -0.24253563 -0.24253563\n",
      "  -0.24253563 -0.24253563 -0.24253563]\n",
      " [-0.12841875  0.67613189  0.25599862 -0.51639778  0.19659542  0.56976043\n",
      "   1.25356634 -0.62017367 -0.70710678 -0.24253563 -0.24253563 -0.24253563\n",
      "  -0.24253563 -0.24253563  4.12310563 -0.24253563 -0.24253563 -0.24253563\n",
      "  -0.24253563 -0.24253563 -0.24253563 -0.24253563 -0.24253563 -0.24253563\n",
      "  -0.24253563 -0.24253563 -0.24253563]\n",
      " [-0.9209459  -0.13185975 -0.20945342  0.45184806  0.0087654   0.14597168\n",
      "  -0.79772404 -0.62017367  1.41421356 -0.24253563 -0.24253563 -0.24253563\n",
      "  -0.24253563 -0.24253563 -0.24253563 -0.24253563  4.12310563 -0.24253563\n",
      "  -0.24253563 -0.24253563 -0.24253563 -0.24253563 -0.24253563 -0.24253563\n",
      "  -0.24253563 -0.24253563 -0.24253563]\n",
      " [ 0.45221746 -0.28335818  0.72145067  0.45184806  0.60982146 -0.36257482\n",
      "   1.25356634 -0.62017367 -0.70710678 -0.24253563 -0.24253563 -0.24253563\n",
      "  -0.24253563 -0.24253563 -0.24253563 -0.24253563 -0.24253563 -0.24253563\n",
      "  -0.24253563  4.12310563 -0.24253563 -0.24253563 -0.24253563 -0.24253563\n",
      "  -0.24253563 -0.24253563 -0.24253563]\n",
      " [-0.18345536 -1.49534562 -0.44217944 -0.71004695 -0.51715865 -1.54918332\n",
      "   1.25356634 -0.62017367 -0.70710678 -0.24253563 -0.24253563 -0.24253563\n",
      "  -0.24253563 -0.24253563 -0.24253563 -0.24253563 -0.24253563 -0.24253563\n",
      "  -0.24253563 -0.24253563 -0.24253563 -0.24253563  4.12310563 -0.24253563\n",
      "  -0.24253563 -0.24253563 -0.24253563]\n",
      " [ 2.84080623  2.19111619  0.86108628  1.22644473  1.81193359  1.84112668\n",
      "  -0.79772404 -0.62017367  1.41421356 -0.24253563 -0.24253563 -0.24253563\n",
      "  -0.24253563 -0.24253563 -0.24253563 -0.24253563 -0.24253563 -0.24253563\n",
      "  -0.24253563 -0.24253563 -0.24253563 -0.24253563 -0.24253563  4.12310563\n",
      "  -0.24253563 -0.24253563 -0.24253563]\n",
      " [-1.28143568 -1.49534562 -1.60580955 -1.87194195 -1.98223281 -1.54918332\n",
      "  -0.79772404  1.61245155 -0.70710678 -0.24253563 -0.24253563 -0.24253563\n",
      "  -0.24253563 -0.24253563 -0.24253563 -0.24253563 -0.24253563 -0.24253563\n",
      "  -0.24253563 -0.24253563 -0.24253563 -0.24253563 -0.24253563 -0.24253563\n",
      "  -0.24253563 -0.24253563  4.12310563]\n",
      " [-0.16969621  1.23162613 -0.25599862 -0.90369611 -0.14149861  1.41733793\n",
      "  -0.79772404 -0.62017367  1.41421356 -0.24253563  4.12310563 -0.24253563\n",
      "  -0.24253563 -0.24253563 -0.24253563 -0.24253563 -0.24253563 -0.24253563\n",
      "  -0.24253563 -0.24253563 -0.24253563 -0.24253563 -0.24253563 -0.24253563\n",
      "  -0.24253563 -0.24253563 -0.24253563]\n",
      " [ 0.45772112 -0.13185975  0.53526985  1.03279556  0.60982146 -0.02354382\n",
      "   1.25356634 -0.62017367 -0.70710678 -0.24253563 -0.24253563 -0.24253563\n",
      "  -0.24253563 -0.24253563 -0.24253563 -0.24253563 -0.24253563 -0.24253563\n",
      "  -0.24253563 -0.24253563  4.12310563 -0.24253563 -0.24253563 -0.24253563\n",
      "  -0.24253563 -0.24253563 -0.24253563]\n",
      " [ 1.0080872   1.53462299  1.65235475  0.45184806  2.18759363  0.14597168\n",
      "  -0.79772404 -0.62017367  1.41421356 -0.24253563 -0.24253563 -0.24253563\n",
      "  -0.24253563  4.12310563 -0.24253563 -0.24253563 -0.24253563 -0.24253563\n",
      "  -0.24253563 -0.24253563 -0.24253563 -0.24253563 -0.24253563 -0.24253563\n",
      "  -0.24253563 -0.24253563 -0.24253563]\n",
      " [ 0.99432805  0.67613189  0.20945342  0.64549722  0.0087654   0.73927593\n",
      "   1.25356634 -0.62017367 -0.70710678 -0.24253563 -0.24253563 -0.24253563\n",
      "  -0.24253563 -0.24253563 -0.24253563 -0.24253563 -0.24253563 -0.24253563\n",
      "  -0.24253563 -0.24253563 -0.24253563 -0.24253563 -0.24253563 -0.24253563\n",
      "  -0.24253563  4.12310563 -0.24253563]\n",
      " [-0.5219305  -0.2328587  -0.11636301 -0.12909944  0.37691224 -1.21015232\n",
      "  -0.79772404 -0.62017367  1.41421356 -0.24253563 -0.24253563 -0.24253563\n",
      "  -0.24253563 -0.24253563 -0.24253563 -0.24253563 -0.24253563 -0.24253563\n",
      "  -0.24253563 -0.24253563 -0.24253563  4.12310563 -0.24253563 -0.24253563\n",
      "  -0.24253563 -0.24253563 -0.24253563]\n",
      " [ 0.37791804 -0.08136027  0.30254383 -0.32274861  0.12146341  0.56976043\n",
      "  -0.79772404  1.61245155 -0.70710678 -0.24253563 -0.24253563 -0.24253563\n",
      "  -0.24253563 -0.24253563 -0.24253563 -0.24253563 -0.24253563  4.12310563\n",
      "  -0.24253563 -0.24253563 -0.24253563 -0.24253563 -0.24253563 -0.24253563\n",
      "  -0.24253563 -0.24253563 -0.24253563]\n",
      " [ 0.95580242  0.77713084  1.18690271  1.22644473  0.30929343  1.24782243\n",
      "   1.25356634 -0.62017367 -0.70710678 -0.24253563 -0.24253563 -0.24253563\n",
      "  -0.24253563 -0.24253563 -0.24253563 -0.24253563 -0.24253563 -0.24253563\n",
      "   4.12310563 -0.24253563 -0.24253563 -0.24253563 -0.24253563 -0.24253563\n",
      "  -0.24253563 -0.24253563 -0.24253563]\n",
      " [-0.92920139 -0.83885242 -1.37308353 -1.09734528 -0.9303847  -1.54918332\n",
      "  -0.79772404  1.61245155 -0.70710678 -0.24253563 -0.24253563 -0.24253563\n",
      "  -0.24253563 -0.24253563 -0.24253563  4.12310563 -0.24253563 -0.24253563\n",
      "  -0.24253563 -0.24253563 -0.24253563 -0.24253563 -0.24253563 -0.24253563\n",
      "  -0.24253563 -0.24253563 -0.24253563]]\n"
     ]
    }
   ],
   "source": [
    "#transformation–centrage-réduction\n",
    "Z = sc.fit_transform(dataset)\n",
    "print(Z)"
   ]
  },
  {
   "cell_type": "code",
   "execution_count": 18,
   "metadata": {
    "collapsed": false
   },
   "outputs": [
    {
     "name": "stdout",
     "output_type": "stream",
     "text": [
      "[-2.22044605e-16 -1.41861831e-16  0.00000000e+00  1.86270752e-15\n",
      "  5.73615229e-16  5.55111512e-16 -6.16790569e-18  0.00000000e+00\n",
      "  7.40148683e-17 -1.23358114e-17 -1.23358114e-17 -1.23358114e-17\n",
      " -1.23358114e-17 -1.23358114e-17 -1.23358114e-17  0.00000000e+00\n",
      " -1.23358114e-17 -1.23358114e-17  6.16790569e-18 -1.23358114e-17\n",
      " -1.23358114e-17 -1.23358114e-17 -1.23358114e-17 -1.23358114e-17\n",
      " -1.23358114e-17 -1.23358114e-17 -1.23358114e-17]\n"
     ]
    }
   ],
   "source": [
    "#Moyenne\n",
    "print(np.mean(Z,axis=0))"
   ]
  },
  {
   "cell_type": "code",
   "execution_count": 20,
   "metadata": {
    "collapsed": false
   },
   "outputs": [
    {
     "name": "stdout",
     "output_type": "stream",
     "text": [
      "[1. 1. 1. 1. 1. 1. 1. 1. 1. 1. 1. 1. 1. 1. 1. 1. 1. 1. 1. 1. 1. 1. 1. 1.\n",
      " 1. 1. 1.]\n"
     ]
    }
   ],
   "source": [
    "#Écart types\n",
    "print(np.std(Z,axis=0,ddof=0))"
   ]
  },
  {
   "cell_type": "code",
   "execution_count": null,
   "metadata": {
    "collapsed": true
   },
   "outputs": [],
   "source": []
  }
 ],
 "metadata": {
  "anaconda-cloud": {},
  "kernelspec": {
   "display_name": "Python 3",
   "language": "python",
   "name": "python3"
  },
  "language_info": {
   "codemirror_mode": {
    "name": "ipython",
    "version": 3
   },
   "file_extension": ".py",
   "mimetype": "text/x-python",
   "name": "python",
   "nbconvert_exporter": "python",
   "pygments_lexer": "ipython3",
   "version": "3.8.5"
  }
 },
 "nbformat": 4,
 "nbformat_minor": 1
}
